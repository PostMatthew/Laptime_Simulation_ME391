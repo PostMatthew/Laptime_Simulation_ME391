{
 "cells": [
  {
   "cell_type": "markdown",
   "id": "0f7bcb12",
   "metadata": {
    "toc": true
   },
   "source": [
    "<h1>Table of Contents<span class=\"tocSkip\"></span></h1>\n",
    "<div class=\"toc\"><ul class=\"toc-item\"></ul></div>"
   ]
  },
  {
   "cell_type": "code",
   "execution_count": 1,
   "id": "17d39c89",
   "metadata": {},
   "outputs": [],
   "source": [
    "function [V_car_now,dvdt_now,Omega_m_now] = EngineModel(engine_parameters,V_car)\n",
    "    %dvdt_now,Omega_m_now,T_limit_now,F_wheel_now\n",
    "    % unpack engine/car parameters\n",
    "    r = engine_parameters(1); % wheel radius inches to m \n",
    "    ni =  engine_parameters(2); % in tooth\n",
    "    no =  engine_parameters(3); % outer tooth \n",
    "    J_m =  engine_parameters(4); %0.023; % kg m^2 motor inertia \n",
    "    J_l =  engine_parameters(5); % load inertia  \n",
    "    m_car = engine_parameters(6); %pound to kg\n",
    "    Cd = engine_parameters(7); % assume coefficient of drag is 1\n",
    "    A =  engine_parameters(8); %ft^2 to m^2\n",
    "    Cr =  engine_parameters(9); % assume the rolling resistance of 4 wheels is 0.03 from published value of car wheels on Asphalt \n",
    "    omega_maximum = engine_parameters(10); %rpm \n",
    "    Tmax = engine_parameters(11); %from data sheet \n",
    "    P_max = engine_parameters(12); % W  battery provides 300 Amps/ Open circuit voltage around 100V/ assume resistance in battery around 0.05 ohms/ with 90 percent efficiency\n",
    "    h = 0.01;\n",
    "    % Calculations based on parameters or constants\n",
    "    n_gear = ni/no; % gear ratio \n",
    "    p = 1.21; %kg/m^3 density of air \n",
    "    J_t = n_gear^2*J_l + J_m; % total inertia equation from website\n",
    "    g = 9.81; % m/s^2 gravity \n",
    "    Tf = 0; % N*m torque due to internal system friction  \n",
    "    mu = 0.7; % assume friction coefficient of tire equal to 1 (need data from tire)\n",
    "    F_slip = mu*m_car*g; % mu*N\n",
    "    T_slip = F_slip * r*n_gear; % maximum torque applied to wheels before tire slipping\n",
    "    \n",
    "    % identify T_limit (when the wheels start to slip)\n",
    "    if T_slip <= Tmax \n",
    "        T_limit = T_slip; % maximum torque before wheel slipping\n",
    "    end\n",
    "    if T_slip > Tmax\n",
    "        T_limit = Tmax; % maximum torque from motor \n",
    "    end\n",
    "    omega_limit = 9.5488 * P_max /T_limit; % % Torque from the motor exceeds Torque limit until omega_motor reaches certain rpm \n",
    "    if V_car <= omega_maximum*2*pi/60*r*n_gear % before reaching maximum 6000 rpm\n",
    "        \n",
    "        if V_car <  omega_limit*2*pi/60*r*n_gear %m/s Torque from the motor exceeds maximum of 140 NM until reaches this speed \n",
    "            Tm = T_limit;\n",
    "        end\n",
    "        if V_car > omega_limit*2*pi/60*r*n_gear % m/s \n",
    "            Tm = P_max/(V_car(i)/n_gear/r); %  N*m\n",
    "        end\n",
    "        \n",
    "        dVdt = 1/(J_m/(n_gear*r)+n_gear*r*m_car)*Tm -Tf - n_gear*r*0.5*Cd*p*A/(J_m/(n_gear*r)+n_gear*r*m_car)*V_car.^2 - n_gear*r*Cr*m_car*g /(J_m/(n_gear*r)+n_gear*r*m_car);\n",
    "    \n",
    "    else %V_car > omega_maximum*2*pi/60*r*n_gear % RPM from the motor reaches Maximum 6000 rpm \n",
    "        dVdt=0;\n",
    "    end\n",
    "    \n",
    "    Omega_wheel = V_car/2/pi/r*60; % rpm\n",
    "    Omega_m = V_car/n_gear/r*60/2/pi; %rpm\n",
    "    V_car = V_car + dVdt*h;\n",
    "    F_wheel = m_car*dVdt + 0.5*Cd*p*A*V_car.^2+Cr*m_car*g;\n",
    "    \n",
    "    % Assign output variables:\n",
    "    T_limit_now = T_limit;\n",
    "    V_car_now = V_car;\n",
    "    F_wheel_now = F_wheel; \n",
    "    Omega_m_now = Omega_m;\n",
    "    dvdt_now = dVdt\n",
    "endfunction"
   ]
  },
  {
   "cell_type": "code",
   "execution_count": 2,
   "id": "4867555e",
   "metadata": {},
   "outputs": [
    {
     "name": "stdout",
     "output_type": "stream",
     "text": [
      "dvdt_now =  3.1163\r\n",
      "V_car_now =  5.0312\r\n",
      "dv_dt_now =  3.1163\r\n",
      "Omega_m_now =  534.41\r\n"
     ]
    }
   ],
   "source": [
    "r = 10.05/ 39.37; % wheel radius inches to m \n",
    "ni = 14;\n",
    "no = 40;\n",
    "J_m = 0.023; % kg m^2 motor inertia \n",
    "J_l = 0; % load inertia \n",
    "%J_t = n_gear^2*J_l + J_m; % total inertia equation from website \n",
    "m_car = 1000/ 2.205; %pound to kg\n",
    "C = 1; % assume coefficient of drag is 1\n",
    "p = 1.21; %kg/m^3 density of air \n",
    "A = 8/10.764; %ft^2 to m^2\n",
    "Cr = 0.03; % assume the rolling resistance of 4 wheels is 0.03 from published value of car wheels on Asphalt \n",
    "ag = 9.81; % m/s^2 gravity \n",
    "Tf = 0; % N*m torque due to internal system friction  \n",
    "mu = 0.7; % assume friction coefficient of tire equal to 1 (need data from tire)\n",
    "%F_slip = mu*m_car*ag; % mu*N\n",
    "%T_slip = F_slip * r*n_gear; % maximum torque applied to wheels before tire slipping\n",
    "omega_maximum = 6000; %rpm \n",
    "Tmax = 140; %from data sheet \n",
    "P_max = 22500; % W  battery provides 300 Amps/ Open circuit voltage around 100V/ assume resistance in battery around 0.05 ohms/ with 90 percent efficiency to motor \n",
    "engine_parameters = [r,ni,no,J_m,J_l,m_car,C,A,Cr,omega_maximum,Tmax,P_max];\n",
    "V_car = 5;\n",
    "[V_car_now,dv_dt_now,Omega_m_now] = EngineModel(engine_parameters,V_car)\n",
    "%,T_limit_now,F_wheel_now"
   ]
  },
  {
   "cell_type": "code",
   "execution_count": 3,
   "id": "75e21467",
   "metadata": {},
   "outputs": [
    {
     "name": "stdout",
     "output_type": "stream",
     "text": [
      "dvdt_now =  3.1163\r\n",
      "ans =  5.0312\r\n"
     ]
    }
   ],
   "source": [
    "EngineModel(engine_parameters,V_car)"
   ]
  },
  {
   "cell_type": "code",
   "execution_count": null,
   "id": "69157f4a",
   "metadata": {},
   "outputs": [],
   "source": []
  }
 ],
 "metadata": {
  "kernelspec": {
   "display_name": "Octave",
   "language": "octave",
   "name": "octave"
  },
  "language_info": {
   "file_extension": ".m",
   "help_links": [
    {
     "text": "GNU Octave",
     "url": "https://www.gnu.org/software/octave/support.html"
    },
    {
     "text": "Octave Kernel",
     "url": "https://github.com/Calysto/octave_kernel"
    },
    {
     "text": "MetaKernel Magics",
     "url": "https://metakernel.readthedocs.io/en/latest/source/README.html"
    }
   ],
   "mimetype": "text/x-octave",
   "name": "octave",
   "version": "4.2.2"
  },
  "toc": {
   "base_numbering": 1,
   "nav_menu": {},
   "number_sections": true,
   "sideBar": true,
   "skip_h1_title": false,
   "title_cell": "Table of Contents",
   "title_sidebar": "Contents",
   "toc_cell": true,
   "toc_position": {},
   "toc_section_display": true,
   "toc_window_display": false
  }
 },
 "nbformat": 4,
 "nbformat_minor": 5
}

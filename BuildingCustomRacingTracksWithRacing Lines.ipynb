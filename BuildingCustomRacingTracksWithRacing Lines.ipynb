{
 "cells": [
  {
   "cell_type": "markdown",
   "id": "0bfe6d62",
   "metadata": {},
   "source": [
    "# Building Custom Racing Tracks w/Racing Lines\n",
    "By: Matt Post '22 ||\n",
    "Lafayette College, Dept. Mechanical Engineering ||\n",
    "AY: 2021-2022"
   ]
  },
  {
   "cell_type": "markdown",
   "id": "ef762ba3",
   "metadata": {},
   "source": [
    "This notebook is an updated version of BuildingCustomRaceTracks notebook. While the previous notebook created a series of a functions that allowed for the construction of an initial custom race track. This notebook will repoduce current work achompilished as well as implement additional functions to allow for consideration of track parameters such as track width and clothoidal shape of our racing line. This notebook will also be crucial for creating a more realistic driver model for the point mass simulator."
   ]
  },
  {
   "cell_type": "markdown",
   "id": "602304b8",
   "metadata": {},
   "source": [
    "## Where to start?\n",
    "Working this problem of constructing a more realistic track will require a more structural and intentional approach than how the orginal notebook/script was written. Our process for this construction will be as follow:\n",
    "\n",
    "**MIDDLE TRACK**\n",
    "1. Initialize Function -- Estabilish Empty Vectors & Starting Tracks/Curvitures\n",
    "2. Add Straight Function -- Adds straights segements to initialized vectors\n",
    "    - Inputs: Current Station & Curviture Arrays, value of length added\n",
    "    - Outputs: Updated Station & Curviture Arrays \n",
    "3. Add Turn Function:\n",
    "    - Inputs: Current Station & Curviture Arrays, value of radius of turn, angle of turn, and width of track\n",
    "    - Outputs: Updated Station & Curviture Arrays for Inner & Outer Curvitures of track \n",
    "**OUTER & INNER TRACKS**\n",
    "1. Adding Inner & Outer Turns\n",
    "2. Setting Initial Points\n",
    "3. Updating Straights\n",
    "4. Automating Track Construction\n",
    "\n",
    "**RACING LINE**"
   ]
  },
  {
   "attachments": {
    "indepdentStudy.drawio%20%281%29.png": {
     "image/png": "[encoded data removed]"
    }
   },
   "cell_type": "markdown",
   "id": "0522c650",
   "metadata": {},
   "source": [
    "## Building The Middle Track\n",
    "\n",
    "This section of the notebook works to build the middle track of our custom track. This initial phase will facilitate the later development of our realistic track with inner & outter tracks and eventually developing our racing line.\n",
    "![indepdentStudy.drawio%20%281%29.png](attachment:indepdentStudy.drawio%20%281%29.png)"
   ]
  },
  {
   "cell_type": "markdown",
   "id": "25c03484",
   "metadata": {},
   "source": [
    "### Function: Initializing Track\n",
    "Our first function will initialize all of our structs and vectors so we can add relevant segments (turns & straights)."
   ]
  },
  {
   "cell_type": "code",
   "execution_count": 1,
   "id": "44a00164",
   "metadata": {},
   "outputs": [],
   "source": [
    "clear all\n",
    "function track = initializeTrack()\n",
    "    % initialize vectors\n",
    "    track.inner.S = []; \n",
    "    track.inner.K = [];\n",
    "    track.middle.S = []; \n",
    "    track.middle.K = [];\n",
    "    track.outer.S = []; \n",
    "    track.outer.K = [];\n",
    "    track.RacingLine.S = []; \n",
    "    track.RacingLine.K = [];\n",
    "    \n",
    "    % prepopulate with values of 0 for initial station point\n",
    "    track.inner.S(1) = 0; \n",
    "    track.inner.K(1) = 0;\n",
    "    track.middle.S(1) = 0; \n",
    "    track.middle.K(1) = 0;\n",
    "    track.outer.S(1) = 0; \n",
    "    track.outer.K(1) = 0;\n",
    "    track.RacingLine.S(1) = 0; \n",
    "    track.RacingLine.K(1) = 0;\n",
    "end"
   ]
  },
  {
   "cell_type": "markdown",
   "id": "d65d63e9",
   "metadata": {},
   "source": [
    "Unit test for initializeTrack() function. Want to make sure that each of our sub structs are initialized."
   ]
  },
  {
   "cell_type": "code",
   "execution_count": 2,
   "id": "3976de09",
   "metadata": {},
   "outputs": [
    {
     "name": "stdout",
     "output_type": "stream",
     "text": [
      "test =\r\n",
      "\r\n",
      "  scalar structure containing the fields:\r\n",
      "\r\n",
      "    inner =\r\n",
      "\r\n",
      "      scalar structure containing the fields:\r\n",
      "\r\n",
      "        S = 0\r\n",
      "        K = 0\r\n",
      "\r\n",
      "    middle =\r\n",
      "\r\n",
      "      scalar structure containing the fields:\r\n",
      "\r\n",
      "        S = 0\r\n",
      "        K = 0\r\n",
      "\r\n",
      "    outer =\r\n",
      "\r\n",
      "      scalar structure containing the fields:\r\n",
      "\r\n",
      "        S = 0\r\n",
      "        K = 0\r\n",
      "\r\n",
      "    RacingLine =\r\n",
      "\r\n",
      "      scalar structure containing the fields:\r\n",
      "\r\n",
      "        S = 0\r\n",
      "        K = 0\r\n",
      "\r\n",
      "\r\n"
     ]
    }
   ],
   "source": [
    "test = initializeTrack()"
   ]
  },
  {
   "cell_type": "markdown",
   "id": "99346050",
   "metadata": {},
   "source": [
    "### Function(s): Adding A Straight Segement\n",
    "This next set of functions will work to add a straight segment to our track struct. This will be achomplished by using two seperate functions. One function actually add the straight & one function will automate adding the straight to each of the track's sub structs."
   ]
  },
  {
   "cell_type": "code",
   "execution_count": 3,
   "id": "afe2e5fa",
   "metadata": {},
   "outputs": [],
   "source": [
    "function [S,K] = addStraight(S_current,K_current,lengthStraight,KStraight)\n",
    "    N = length(S_current);\n",
    "    fudge = 0.001;\n",
    "    S_current(N+1) = S_current(N)+fudge;\n",
    "    K_current(N+1) = KStraight;\n",
    "    S_current(N+2) = S_current(N+1)+lengthStraight+fudge;\n",
    "    K_current(N+2) = KStraight;\n",
    "    S = S_current;\n",
    "    K = K_current;\n",
    "end"
   ]
  },
  {
   "cell_type": "markdown",
   "id": "f9b8d628",
   "metadata": {},
   "source": [
    "Unit test for one length to make sure we are adding to our straight values. This will be a manual test of calling specific structs before further functionalizing this shortly:"
   ]
  },
  {
   "cell_type": "code",
   "execution_count": 4,
   "id": "9ac48da5",
   "metadata": {
    "scrolled": false
   },
   "outputs": [
    {
     "name": "stdout",
     "output_type": "stream",
     "text": [
      "ans =\r\n",
      "\r\n",
      "   0.00000   0.00100   4.00200\r\n",
      "\r\n",
      "ans =\r\n",
      "\r\n",
      "   0   0   0\r\n",
      "\r\n"
     ]
    }
   ],
   "source": [
    "test = initializeTrack();\n",
    "[test.middle.S,test.middle.K] = addStraight(test.middle.S,test.middle.K,4,0);\n",
    "test.middle.S,test.middle.K"
   ]
  },
  {
   "cell_type": "markdown",
   "id": "3a617658",
   "metadata": {},
   "source": [
    "### Function(s): Adding A Turn Segment\n",
    "This next set of functions will work to add a turn to our track along the outer and inner curvitures of the track. This function will be where we account for the width of the track. The first turn function we will build is the adding the outer curviture of the track."
   ]
  },
  {
   "cell_type": "code",
   "execution_count": 5,
   "id": "f3afb26e",
   "metadata": {},
   "outputs": [],
   "source": [
    "function [S,K] = addTurn(S_cur,K_cur,RTurn,thetaTurn)\n",
    "    N = length(S_cur);\n",
    "    fudge = 0.001;\n",
    "    KTurn = 1/RTurn;\n",
    "    STurn = abs(thetaTurn*RTurn); % arc length\n",
    "    S_cur(N+1) = S_cur(N)+fudge;\n",
    "    S_cur(N+2) = S_cur(N+1)+STurn+fudge;\n",
    "    \n",
    "    if thetaTurn <=0\n",
    "        K_cur(N+1) = -KTurn;\n",
    "        K_cur(N+2) = -KTurn;\n",
    "    else\n",
    "        K_cur(N+1) = KTurn;\n",
    "        K_cur(N+2) = KTurn;  \n",
    "    end\n",
    "    S = S_cur;\n",
    "    K = K_cur;\n",
    "end"
   ]
  },
  {
   "cell_type": "markdown",
   "id": "41d8a0f3",
   "metadata": {},
   "source": [
    "Another unit test:"
   ]
  },
  {
   "cell_type": "code",
   "execution_count": 6,
   "id": "b858ac66",
   "metadata": {
    "scrolled": true
   },
   "outputs": [
    {
     "name": "stdout",
     "output_type": "stream",
     "text": [
      "ans =\r\n",
      "\r\n",
      "   0.00000   0.00100   3.14359\r\n",
      "\r\n",
      "ans =\r\n",
      "\r\n",
      "   0   1   1\r\n",
      "\r\n"
     ]
    }
   ],
   "source": [
    "test = initializeTrack();\n",
    "RTurn = 1;\n",
    "theta_turn = pi;\n",
    "[test.middle.S,test.middle.K] = addTurn(test.outer.S, test.outer.K,RTurn,theta_turn);\n",
    "test.middle.S,test.middle.K"
   ]
  },
  {
   "cell_type": "markdown",
   "id": "6c355689",
   "metadata": {},
   "source": [
    "### Function: Building A High Resolution Map\n",
    "Now we using code provided by Professor Alexander Brown we will create a high resolution map of our track using the interp1 function within Octave."
   ]
  },
  {
   "cell_type": "code",
   "execution_count": 7,
   "id": "db72a51f",
   "metadata": {},
   "outputs": [],
   "source": [
    "function [track] = fillTrack(S,K,int_positions)\n",
    "    nu(1) = int_positions.nu;\n",
    "    X(1) = int_positions.X;\n",
    "    Y(1) = int_positions.Y;\n",
    "    %build a high resolution map\n",
    "    Sq = min(S):.01:max(S);\n",
    "    Kq = interp1(S,K,Sq);\n",
    "\n",
    "    for k = 2:length(Sq)\n",
    "       nu(k) = nu(k-1) + Kq(k-1)*(Sq(k)-Sq(k-1));\n",
    "       X(k) = X(k-1) + (Sq(k)-Sq(k-1))*cos(nu(k-1));\n",
    "       Y(k) = Y(k-1) + (Sq(k)-Sq(k-1))*sin(nu(k-1));\n",
    "    end\n",
    "\n",
    "    track.heading = nu;\n",
    "    track.X = X;\n",
    "    track.Y = Y;\n",
    "    track.S = Sq;\n",
    "    track.K = Kq;\n",
    "end"
   ]
  },
  {
   "cell_type": "markdown",
   "id": "50754747",
   "metadata": {},
   "source": [
    "Unit test to ensure that we can build the high resolution map. Specifically we will look to make sure we have the correct station and curviture. Additionally we will plot the X & Y of our track to ensure we have the correct mapping of the track we actually want."
   ]
  },
  {
   "cell_type": "code",
   "execution_count": 8,
   "id": "b180626d",
   "metadata": {},
   "outputs": [
    {
     "name": "stdout",
     "output_type": "stream",
     "text": [
      "ans =  0.031853\n",
      "ans =  40.001\n",
      "ans =  3.1415\n"
     ]
    },
    {
     "data": {
      "image/png": "[encoded data removed]",
      "text/plain": [
       "<IPython.core.display.Image object>"
      ]
     },
     "metadata": {},
     "output_type": "display_data"
    },
    {
     "data": {
      "image/png": "[encoded data removed]",
      "text/plain": [
       "<IPython.core.display.Image object>"
      ]
     },
     "metadata": {},
     "output_type": "display_data"
    }
   ],
   "source": [
    "test = initializeTrack();\n",
    "RTurn = 20;\n",
    "theta_turn = pi;\n",
    "w_test = 5;\n",
    "Kstraight = 0;\n",
    "straight = 15;\n",
    "int_position.X = 0;\n",
    "int_position.Y = 0;\n",
    "int_position.nu = 0;\n",
    "[test.middle.S,test.middle.K] = addStraight(test.middle.S,test.middle.K,straight,Kstraight);\n",
    "[test.middle.S,test.middle.K] = addTurn(test.middle.S,test.middle.K,RTurn,theta_turn);\n",
    "[test.middle.S,test.middle.K] = addStraight(test.middle.S,test.middle.K,straight,Kstraight);\n",
    "test.middle = fillTrack(test.middle.S,test.middle.K,int_position);\n",
    "figure()\n",
    "hold on\n",
    "title(\"Station vs Curviture\")\n",
    "xlabel(\"Station, m\")\n",
    "ylabel(\"Curviture, rad\")\n",
    "plot(test.middle.S,test.middle.K,\".\")\n",
    "%ylim([-5 30])\n",
    "%daspect([1 1 1])\n",
    "hold off\n",
    "\n",
    "figure()\n",
    "hold on\n",
    "title(\"Racing (Middle) Map\")\n",
    "xlabel(\"X, m\")\n",
    "ylabel(\"Y, m\")\n",
    "plot(test.middle.X,test.middle.Y,\".\")\n",
    "%ylim([-5 30])\n",
    "%daspect([1 1 1])\n",
    "hold off\n",
    "test.middle.X(end)\n",
    "test.middle.Y(end)\n",
    "test.middle.heading(end)"
   ]
  },
  {
   "cell_type": "markdown",
   "id": "cc6866d7",
   "metadata": {},
   "source": [
    "### Function: Building A High Resolution Map (Moving Backwards)\n",
    "This function will build a high resolution map of our track from an initial point incrementing moving backwards. This function will be crucial for constructing our racing line."
   ]
  },
  {
   "cell_type": "code",
   "execution_count": 9,
   "id": "af0eda4f",
   "metadata": {},
   "outputs": [],
   "source": [
    "function [track] = fillBackwardsTrack(S,K,int_positions)\n",
    "    nu(1) = int_positions.nu;\n",
    "    X(1) = int_positions.X;\n",
    "    Y(1) = int_positions.Y;\n",
    "    %build a high resolution map\n",
    "    Sq = max(S):-.01:min(S);\n",
    "    Kq = interp1(S,K,Sq);\n",
    "\n",
    "    for k = 2:length(Sq)\n",
    "       nu(k) = nu(k-1) + Kq(k-1)*(Sq(k)-Sq(k-1));\n",
    "       X(k) = X(k-1) + (Sq(k)-Sq(k-1))*cos(nu(k-1));\n",
    "       Y(k) = Y(k-1) + (Sq(k)-Sq(k-1))*sin(nu(k-1));\n",
    "    end\n",
    "\n",
    "    track.heading = nu;\n",
    "    track.X = X;\n",
    "    track.Y = Y;\n",
    "    track.S = Sq;\n",
    "    track.K = Kq;\n",
    "end"
   ]
  },
  {
   "cell_type": "markdown",
   "id": "e7202c3b",
   "metadata": {},
   "source": [
    "Now we will perform a unit test to recreate the same track from above."
   ]
  },
  {
   "cell_type": "code",
   "execution_count": 10,
   "id": "58ff20ca",
   "metadata": {
    "scrolled": false
   },
   "outputs": [
    {
     "data": {
      "image/png": "[encoded data removed]",
      "text/plain": [
       "<IPython.core.display.Image object>"
      ]
     },
     "metadata": {},
     "output_type": "display_data"
    },
    {
     "data": {
      "image/png": "[encoded data removed]",
      "text/plain": [
       "<IPython.core.display.Image object>"
      ]
     },
     "metadata": {},
     "output_type": "display_data"
    }
   ],
   "source": [
    "test = initializeTrack();\n",
    "RTurn = 20;\n",
    "theta_turn = pi;\n",
    "w_test = 5;\n",
    "Kstraight = 0;\n",
    "straight = 15;\n",
    "int_position.X = 0.031853;\n",
    "int_position.Y = 40.001;\n",
    "int_position.nu = 3.1415;\n",
    "[test.middle.S,test.middle.K] = addStraight(test.middle.S,test.middle.K,straight,Kstraight);\n",
    "[test.middle.S,test.middle.K] = addTurn(test.middle.S,test.middle.K,RTurn,theta_turn);\n",
    "[test.middle.S,test.middle.K] = addStraight(test.middle.S,test.middle.K,straight,Kstraight);\n",
    "test.middle = fillBackwardsTrack(test.middle.S,test.middle.K,int_position);\n",
    "figure()\n",
    "hold on\n",
    "title(\"Station vs Curviture\")\n",
    "xlabel(\"Station, m\")\n",
    "ylabel(\"Curviture, rad\")\n",
    "plot(test.middle.S,test.middle.K,\".\")\n",
    "%ylim([-5 30])\n",
    "%daspect([1 1 1])\n",
    "hold off\n",
    "\n",
    "figure()\n",
    "hold on\n",
    "title(\"Racing (Middle) Map\")\n",
    "xlabel(\"X, m\")\n",
    "ylabel(\"Y, m\")\n",
    "plot(test.middle.X,test.middle.Y,\".\")\n",
    "%ylim([-5 30])\n",
    "%daspect([1 1 1])\n",
    "hold off"
   ]
  },
  {
   "attachments": {
    "indepdentStudy.drawio%20%282%29.png": {
     "image/png": "[encoded data removed]"
    }
   },
   "cell_type": "markdown",
   "id": "a2722731",
   "metadata": {},
   "source": [
    "## Building The Outer & Inner Track\n",
    "Now that we have our middle line initialized we will move towards developing our inner & outer tracks based on a specified track width.\n",
    "![indepdentStudy.drawio%20%282%29.png](attachment:indepdentStudy.drawio%20%282%29.png)"
   ]
  },
  {
   "attachments": {
    "indepdentStudy.drawio%20%284%29.png": {
     "image/png": "[encoded data removed]"
    }
   },
   "cell_type": "markdown",
   "id": "3c65a116",
   "metadata": {},
   "source": [
    "### Function: Adding Inner & Outer Turns\n",
    "Our next function will make use of our current add turn function to account for the width of the track and construct an inner & outer \"track\" to make our track more physically real. \n",
    "![indepdentStudy.drawio%20%284%29.png](attachment:indepdentStudy.drawio%20%284%29.png)\n",
    "Using the image above as a reference, our outer radius is a function of track width and the radius of the middle track.\n",
    "$$ R_{outer} = R_{middle} + \\frac{width_{track}}{2} $$\n",
    "Repeating the same process we can determine the radius of our inner track.\n",
    "$$ R_{inner} = R_{middle} - \\frac{width_{track}}{2} $$\n",
    "Functionalized we can represent our inner and outer turns. "
   ]
  },
  {
   "cell_type": "code",
   "execution_count": 11,
   "id": "a686f97e",
   "metadata": {},
   "outputs": [],
   "source": [
    "function track = InnerAndOuterTurns(track,width_track,RTurn,theta_turn)\n",
    "    RadOuter = RTurn+width_track/2;\n",
    "    RadInner = RTurn-width_track/2;\n",
    "    [track.outer.S,track.outer.K] = addTurn(track.outer.S,track.outer.K,RadOuter,theta_turn);\n",
    "    [track.inner.S,track.inner.K] = addTurn(track.inner.S,track.inner.K,RadInner,theta_turn);\n",
    "end"
   ]
  },
  {
   "cell_type": "markdown",
   "id": "79dd0437",
   "metadata": {},
   "source": [
    "Now we will preform a unit test and to ensure that our function works."
   ]
  },
  {
   "cell_type": "code",
   "execution_count": 12,
   "id": "1f76925f",
   "metadata": {},
   "outputs": [
    {
     "name": "stdout",
     "output_type": "stream",
     "text": [
      "ans =\n",
      "\n",
      "   0.000000   0.044444   0.044444\n",
      "\n",
      "ans =\n",
      "\n",
      "   0.000000   0.057143   0.057143\n",
      "\n"
     ]
    }
   ],
   "source": [
    "test = initializeTrack();\n",
    "RTurn = 20;\n",
    "theta_turn = pi;\n",
    "w_test = 5;\n",
    "test = InnerAndOuterTurns(test,w_test,RTurn,theta_turn);\n",
    "test.outer.K\n",
    "test.inner.K"
   ]
  },
  {
   "cell_type": "markdown",
   "id": "d55af487",
   "metadata": {},
   "source": [
    "The function works! This can be seen as how our curviture values for our inner radius are larger than the outer track. Additionally, we can see that our station is smaller than our outer station which makes sense because the station is incrimented by a smaller radius. As a quick test we are going to plot fill our track and initialize our outer and inner values with half of the track width in order to make position works."
   ]
  },
  {
   "cell_type": "code",
   "execution_count": 13,
   "id": "965277e7",
   "metadata": {},
   "outputs": [
    {
     "name": "stdout",
     "output_type": "stream",
     "text": [
      "ans =\r\n",
      "\r\n",
      "  scalar structure containing the fields:\r\n",
      "\r\n",
      "    X = 0\r\n",
      "    Y =  2.5000\r\n",
      "    nu = 0\r\n",
      "\r\n"
     ]
    },
    {
     "data": {
      "image/png": "[encoded data removed]",
      "text/plain": [
       "<IPython.core.display.Image object>"
      ]
     },
     "metadata": {},
     "output_type": "display_data"
    },
    {
     "data": {
      "image/png": "[encoded data removed]",
      "text/plain": [
       "<IPython.core.display.Image object>"
      ]
     },
     "metadata": {},
     "output_type": "display_data"
    }
   ],
   "source": [
    "test = initializeTrack();\n",
    "RTurn = 20;\n",
    "theta_turn = -pi;\n",
    "width_track = 5;\n",
    "int_position.inner.X = 0;\n",
    "int_position.inner.Y = -width_track/2;\n",
    "int_position.inner.nu = 0;\n",
    "int_position.outer.X = 0;\n",
    "int_position.outer.Y = width_track/2;\n",
    "int_position.outer.nu = 0;\n",
    "int_position.outer\n",
    "test = InnerAndOuterTurns(test,w_test,RTurn,theta_turn);\n",
    "test.inner = fillTrack(test.inner.S,test.inner.K,int_position.inner);\n",
    "test.outer = fillTrack(test.outer.S,test.outer.K,int_position.outer);\n",
    "[test.middle.S,test.middle.K] = addTurn(test.middle.S,test.middle.K,RTurn,theta_turn);\n",
    "int_position.middle.X = 0;\n",
    "int_position.middle.Y = 0;\n",
    "int_position.middle.nu = 0;\n",
    "test.middle = fillTrack(test.middle.S,test.middle.K,int_position.middle);\n",
    "figure()\n",
    "hold on\n",
    "title(\"X-Y Map of Track\")\n",
    "xlabel(\"X, m\")\n",
    "ylabel(\"Y, m\")\n",
    "plot(test.inner.X,test.inner.Y)\n",
    "plot(test.middle.X,test.middle.Y)\n",
    "plot(test.outer.X,test.outer.Y)\n",
    "axis equal\n",
    "hold off\n",
    "legend(\"Inner\", \"Middle\",\"Outer\")\n",
    "\n",
    "\n",
    "figure()\n",
    "hold on\n",
    "title(\"Station v. Curvature\")\n",
    "xlabel(\"Station, m\")\n",
    "ylabel(\"Curviture, 1/m\")\n",
    "plot(test.inner.S,test.inner.K)\n",
    "plot(test.middle.S,test.middle.K)\n",
    "plot(test.outer.S,test.outer.K)\n",
    "%axis equal\n",
    "hold off\n",
    "legend(\"Inner\", \"Middle\",\"Outer\")"
   ]
  },
  {
   "cell_type": "markdown",
   "id": "0b8866f0",
   "metadata": {},
   "source": [
    "This works, which is great! but while playing with this test, I identified an issue where we need to change the signage on each of the initial poistions whenever the sign of the angle changes. As such, we will construct a mini-function in order to prevent this issue in the future."
   ]
  },
  {
   "cell_type": "markdown",
   "id": "b93144e8",
   "metadata": {},
   "source": [
    "### Function: Getting Correct Initial Positions\n",
    "This function will assign the correct initial position for our inner & outer tracks based on the angle of the first turn within a track. This will make sure that we have the correct X & Y values."
   ]
  },
  {
   "cell_type": "code",
   "execution_count": 14,
   "id": "36a2c53b",
   "metadata": {},
   "outputs": [],
   "source": [
    "function int_positions = assignIntPosition(int_positions,width,ThetaTurn)\n",
    "    %trackIntInfo = [];\n",
    "    i = 1;\n",
    "    while ThetaTurn(i) == 0\n",
    "        i = i+1\n",
    "    end\n",
    "    \n",
    "    if ThetaTurn(i) >=0;\n",
    "        int_positions.inner.Y = width/2;\n",
    "        int_positions.outer.Y = -width/2;\n",
    "    else\n",
    "        int_positions.outer.Y = width/2;\n",
    "        int_positions.inner.Y = -width/2;\n",
    "    end\n",
    "end"
   ]
  },
  {
   "cell_type": "markdown",
   "id": "ed5741d4",
   "metadata": {},
   "source": [
    "Another unit test in the context of our previous unit test."
   ]
  },
  {
   "cell_type": "code",
   "execution_count": 15,
   "id": "29123aed",
   "metadata": {},
   "outputs": [
    {
     "data": {
      "image/png": "[encoded data removed]",
      "text/plain": [
       "<IPython.core.display.Image object>"
      ]
     },
     "metadata": {},
     "output_type": "display_data"
    },
    {
     "data": {
      "image/png": "[encoded data removed]",
      "text/plain": [
       "<IPython.core.display.Image object>"
      ]
     },
     "metadata": {},
     "output_type": "display_data"
    }
   ],
   "source": [
    "test = initializeTrack();\n",
    "RTurn = 20;\n",
    "theta_turn = -pi;\n",
    "\n",
    "w_test = 5;\n",
    "int_positon = assignIntPosition(int_position,w_test,theta_turn);\n",
    "\n",
    "test = InnerAndOuterTurns(test,w_test,RTurn,theta_turn);\n",
    "test.inner = fillTrack(test.inner.S,test.inner.K,int_position.inner);\n",
    "test.outer = fillTrack(test.outer.S,test.outer.K,int_position.outer);\n",
    "[test.middle.S,test.middle.K] = addTurn(test.middle.S,test.middle.K,RTurn,theta_turn);\n",
    "test.middle = fillTrack(test.middle.S,test.middle.K,int_position.middle);\n",
    "figure()\n",
    "hold on\n",
    "title(\"Negative Angle Test\")\n",
    "xlabel(\"X, m\")\n",
    "ylabel(\"Y, m\")\n",
    "plot(test.inner.X,test.inner.Y)\n",
    "plot(test.middle.X,test.middle.Y)\n",
    "plot(test.outer.X,test.outer.Y)\n",
    "axis equal\n",
    "hold off\n",
    "legend(\"Inner\", \"Middle\",\"Outer\")\n",
    "\n",
    "\n",
    "test = initializeTrack();\n",
    "RTurn = 20;\n",
    "theta_turn = pi;\n",
    "\n",
    "w_test = 5;\n",
    "int_position2 = assignIntPosition(int_position,w_test,theta_turn);\n",
    "\n",
    "test = InnerAndOuterTurns(test,w_test,RTurn,theta_turn);\n",
    "test.inner = fillTrack(test.inner.S,test.inner.K,int_position2.inner);\n",
    "test.outer = fillTrack(test.outer.S,test.outer.K,int_position2.outer);\n",
    "[test.middle.S,test.middle.K] = addTurn(test.middle.S,test.middle.K,RTurn,theta_turn);\n",
    "test.middle = fillTrack(test.middle.S,test.middle.K,int_position2.middle);\n",
    "figure()\n",
    "hold on\n",
    "title(\"Positive Angle Test\")\n",
    "xlabel(\"X, m\")\n",
    "ylabel(\"Y, m\")\n",
    "plot(test.inner.X,test.inner.Y)\n",
    "plot(test.middle.X,test.middle.Y)\n",
    "plot(test.outer.X,test.outer.Y)\n",
    "axis equal\n",
    "hold off\n",
    "legend(\"Inner\", \"Middle\",\"Outer\")"
   ]
  },
  {
   "cell_type": "markdown",
   "id": "b6fb46fb",
   "metadata": {},
   "source": [
    "Both of our tests work! Now we will check to make sure our add straight function works for new inner and outer tracks with our add straight function."
   ]
  },
  {
   "cell_type": "markdown",
   "id": "345374a3",
   "metadata": {},
   "source": [
    "### Function: Adding Straights To Each Sub Struct\n",
    "This next function will automate adding a straight to each of our sub structs at once by calling the add straight function three times in one function"
   ]
  },
  {
   "cell_type": "code",
   "execution_count": 16,
   "id": "77eecd8f",
   "metadata": {},
   "outputs": [],
   "source": [
    "function track = AddTrackStraights(track,straight,Kstraight)\n",
    "    [track.inner.S,track.inner.K] = addStraight(track.inner.S,track.inner.K,straight,Kstraight);\n",
    "    [track.outer.S,track.outer.K] = addStraight(track.outer.S,track.outer.K,straight,Kstraight);\n",
    "    [track.middle.S,track.middle.K] = addStraight(track.middle.S,track.middle.K,straight,Kstraight);\n",
    "end"
   ]
  },
  {
   "cell_type": "markdown",
   "id": "46703a4b",
   "metadata": {},
   "source": [
    "Unit test once again."
   ]
  },
  {
   "cell_type": "code",
   "execution_count": 17,
   "id": "272d111d",
   "metadata": {},
   "outputs": [
    {
     "data": {
      "image/png": "[encoded data removed]",
      "text/plain": [
       "<IPython.core.display.Image object>"
      ]
     },
     "metadata": {},
     "output_type": "display_data"
    }
   ],
   "source": [
    "test = initializeTrack();\n",
    "RTurn = 20;\n",
    "theta_turn = -pi;\n",
    "straight = 10;\n",
    "Kstraight = 0;\n",
    "w_test = 5;\n",
    "int_positions = assignIntPosition(int_position,w_test,theta_turn);\n",
    "test = AddTrackStraights(test,straight,Kstraight);\n",
    "test = InnerAndOuterTurns(test,w_test,RTurn,theta_turn);\n",
    "test.inner = fillTrack(test.inner.S,test.inner.K,int_positions.inner);\n",
    "test.outer = fillTrack(test.outer.S,test.outer.K,int_positions.outer);\n",
    "[test.middle.S,test.middle.K] = addTurn(test.middle.S,test.middle.K,RTurn,theta_turn);\n",
    "test.middle = fillTrack(test.middle.S,test.middle.K,int_positions.middle);\n",
    "figure()\n",
    "hold on\n",
    "title(\"Straights Test\")\n",
    "xlabel(\"X, m\")\n",
    "ylabel(\"Y, m\")\n",
    "plot(test.inner.X,test.inner.Y)\n",
    "plot(test.middle.X,test.middle.Y)\n",
    "plot(test.outer.X,test.outer.Y)\n",
    "axis equal\n",
    "hold off\n",
    "legend(\"Inner\", \"Middle\",\"Outer\")\n"
   ]
  },
  {
   "cell_type": "markdown",
   "id": "5439f118",
   "metadata": {},
   "source": [
    "Our function works! Now we will work to automate our Inner and Outer track functions as one function that we can run once in a for loop."
   ]
  },
  {
   "cell_type": "markdown",
   "id": "6c7ffa9e",
   "metadata": {},
   "source": [
    "### Function: Automating Track Construction\n",
    "Making use of a for loop, we will construct our track with the call of one function. This will function will only be provided by three arrays: one of lengths, one of turns, and one of angles of turns."
   ]
  },
  {
   "cell_type": "code",
   "execution_count": 18,
   "id": "4ea9448d",
   "metadata": {},
   "outputs": [],
   "source": [
    "function track = BuildTrack(lengths,theta,width_track,int_position)\n",
    "    track = initializeTrack();\n",
    "    int_position = assignIntPosition(int_position,width_track,theta);\n",
    "    for i = 1:length(lengths)\n",
    "        if abs(theta(i)) > 0\n",
    "            track = InnerAndOuterTurns(track,width_track,lengths(i),theta(i));\n",
    "            [track.middle.S,track.middle.K] = addTurn(track.middle.S,track.middle.K,lengths(i),theta(i));\n",
    "        else\n",
    "            track = AddTrackStraights(track,lengths(i),theta(i));\n",
    "        end\n",
    "\n",
    "        track.inner = fillTrack(track.inner.S,track.inner.K,int_position.inner);\n",
    "        track.outer = fillTrack(track.outer.S,track.outer.K,int_position.outer);\n",
    "        track.middle = fillTrack(track.middle.S,track.middle.K,int_position.middle);\n",
    "    end\n",
    "end"
   ]
  },
  {
   "cell_type": "markdown",
   "id": "94c8f22c",
   "metadata": {},
   "source": [
    "Another unit test, this time we expect to built a simple track with two turns and two straights."
   ]
  },
  {
   "cell_type": "code",
   "execution_count": 19,
   "id": "e05cc520",
   "metadata": {},
   "outputs": [
    {
     "name": "stdout",
     "output_type": "stream",
     "text": [
      "i =  2\n"
     ]
    },
    {
     "data": {
      "image/png": "[encoded data removed]",
      "text/plain": [
       "<IPython.core.display.Image object>"
      ]
     },
     "metadata": {},
     "output_type": "display_data"
    }
   ],
   "source": [
    "lengths = [10, 20, 50, 20, 50];\n",
    "theta = [0, -pi, 0, -pi, 0];\n",
    "\n",
    "width_track = 10;\n",
    "track = BuildTrack(lengths,theta,width_track,int_positions);\n",
    "\n",
    "figure()\n",
    "hold on\n",
    "title(\"Straights Test\")\n",
    "xlabel(\"X, m\")\n",
    "ylabel(\"Y, m\")\n",
    "plot(track.inner.X,track.inner.Y,\"k\")\n",
    "plot(track.middle.X,track.middle.Y)\n",
    "plot(track.outer.X,track.outer.Y,\"k\")\n",
    "axis equal\n",
    "hold off\n",
    "legend(\"Inner\", \"Middle\",\"Outer\",\"Location\",\"northwest\")\n"
   ]
  },
  {
   "cell_type": "markdown",
   "id": "0e93afc8",
   "metadata": {},
   "source": [
    "### Function: Plotting Track Map\n",
    "This next function will plot our track map (including middle idealized track). This function will automate plotting our test maps each time to save time for future tests."
   ]
  },
  {
   "cell_type": "code",
   "execution_count": 20,
   "id": "6037e869",
   "metadata": {},
   "outputs": [],
   "source": [
    "function plotTrackMap(track)\n",
    "    figure()\n",
    "    hold on\n",
    "    xlabel(\"X, m\")\n",
    "    ylabel(\"Y, m\")\n",
    "    plot(track.inner.X,track.inner.Y)\n",
    "    plot(track.middle.X,track.middle.Y)\n",
    "    plot(track.outer.X,track.outer.Y)\n",
    "    axis equal\n",
    "    hold off\n",
    "    legend(\"Inner\", \"Middle\",\"Outer\",\"Location\",\"northwest\")\n",
    "end"
   ]
  },
  {
   "cell_type": "markdown",
   "id": "280707d5",
   "metadata": {},
   "source": [
    "Unit test again. Basically we want to recreate the plot seen above."
   ]
  },
  {
   "cell_type": "code",
   "execution_count": 21,
   "id": "14f8f98b",
   "metadata": {},
   "outputs": [
    {
     "name": "stdout",
     "output_type": "stream",
     "text": [
      "i =  2\n"
     ]
    },
    {
     "data": {
      "image/png": "[encoded data removed]",
      "text/plain": [
       "<IPython.core.display.Image object>"
      ]
     },
     "metadata": {},
     "output_type": "display_data"
    }
   ],
   "source": [
    "lengths = [100, 20,100];\n",
    "theta = [0, -pi,0];\n",
    "width_track = 10;\n",
    "track = BuildTrack(lengths,theta,width_track,int_positions);\n",
    "\n",
    "plotTrackMap(track)"
   ]
  },
  {
   "attachments": {
    "indepdentStudy.drawio%20%285%29.png": {
     "image/png": "[encoded data removed]"
    }
   },
   "cell_type": "markdown",
   "id": "2a2dc21c",
   "metadata": {},
   "source": [
    "## Constructing A Racing Line\n",
    "In this next set of functions we will construct functions based off of work done by Dr. Krisada (Mick) Kritayakirana in his 2012 thesis, [Autonomous Vehicle Control at the Limts of Handling](https://dynamicdesignlab.sites.stanford.edu/sites/g/files/sbiybj9456/f/publications/2012_Thesis_Kritayakirana_Autonomous_Vehicle_Control_at_the_Limits_of_Handling.pdf). Using Dr. Kritayakirana's methodology we will will create a racing line \"path\" that will create a more realsitic driver model.\n",
    "![indepdentStudy.drawio%20%285%29.png](attachment:indepdentStudy.drawio%20%285%29.png)\n",
    "Our first step in this section is to determine points along our constant radius segement for a given turn."
   ]
  },
  {
   "cell_type": "markdown",
   "id": "b5fd757e",
   "metadata": {},
   "source": [
    "### Function: Deteriming Constant Radius Points And Station Values\n",
    "This function will use the inner and outer track geometetry and determine the X,Y points for:\n",
    "1. Apex of the Constant Radius (CR) Segement \n",
    "2. Beginning of CR Segement\n",
    "3. End of CR Segment\n",
    "\n",
    "These three points will allow us to determine the center point of our constant radius segement as well as the radius and ultimantly necessary angle to estabilish that segment of the racing line. Additionally, this function will return three station and curvature values for our CR segemt. The CR values will ultimantly be overwritten but for now they are being returned. This function makes heavy use of identifying index numbers through logic statemtents and the find function in order to find specific data points within our track data set."
   ]
  },
  {
   "cell_type": "code",
   "execution_count": 22,
   "id": "0be1cdcd",
   "metadata": {},
   "outputs": [],
   "source": [
    "function [S,K,X,Y,Heading] = GetTurnPoints(track)\n",
    "    % Get Inner Part of RL In A Turn\n",
    "    indicies = 1:length(track.inner.S);\n",
    "    K_thresh = 0;\n",
    "    turn_inner_ind = indicies((abs(track.inner.K) > K_thresh)); % find indicies until the next straight\n",
    "    S_apex_inner = (track.inner.S(turn_inner_ind(1))+track.inner.S(turn_inner_ind(end)))/2;\n",
    "    K_apex_inner = (track.inner.K(turn_inner_ind(1))+track.inner.K(turn_inner_ind(end)))/2;\n",
    "    \n",
    "    % Uses some tomfoolery to determine the X & Y values of the apex of the inner turn indepdent of finding specific X & Y values of inner track\n",
    "    int_position_dummy.X = track.inner.X(turn_inner_ind(1));\n",
    "    int_position_dummy.Y = track.inner.Y(turn_inner_ind(1));\n",
    "    int_position_dummy.nu = track.inner.heading(turn_inner_ind(1));\n",
    "    S_dummy = [track.inner.S(turn_inner_ind(1)), S_apex_inner];\n",
    "    K_dummy = [track.inner.K(turn_inner_ind(1)), K_apex_inner];\n",
    "    [dummy] = fillTrack(S_dummy,K_dummy,int_position_dummy);\n",
    "    X_inner_apex = dummy.X(end);\n",
    "    Y_inner_apex = dummy.Y(end);\n",
    "    Heading_inner_apex = dummy.heading(end);\n",
    "    % Get Middle Points of RL In A Turn\n",
    "    ind_mid = 1:length(track.middle.S);\n",
    "    turn_mid_ind = indicies((abs(track.middle.K) > K_thresh));\n",
    "    \n",
    "    % Finds CR starting points\n",
    "    S_CR_start = track.middle.S(turn_mid_ind(1));\n",
    "    K_CR_start = track.middle.K(turn_mid_ind(1));\n",
    "    X_CR_start = track.middle.X(turn_mid_ind(1));\n",
    "    Y_CR_start = track.middle.Y(turn_mid_ind(1));\n",
    "    Heading_CR_start = track.middle.heading(turn_mid_ind(1));\n",
    "    % Finds CR ending points\n",
    "    S_CR_end = track.middle.S(turn_mid_ind(end));\n",
    "    K_CR_end = track.middle.K(turn_mid_ind(end));\n",
    "    X_CR_end = track.middle.X(turn_mid_ind(end));\n",
    "    Y_CR_end = track.middle.Y(turn_mid_ind(end));\n",
    "    Heading_CR_end = track.middle.heading(turn_mid_ind(end));\n",
    "    % Package it all together\n",
    "    S = [S_CR_start,S_apex_inner,S_CR_end];\n",
    "    K = [K_CR_start,K_apex_inner,K_CR_end];\n",
    "    X = [X_CR_start, X_inner_apex, X_CR_end];\n",
    "    Y = [Y_CR_start, Y_inner_apex,Y_CR_end];\n",
    "    Heading = [Heading_CR_start,Heading_inner_apex,Heading_CR_end];\n",
    "end"
   ]
  },
  {
   "cell_type": "markdown",
   "id": "066217bd",
   "metadata": {},
   "source": [
    "Unit test to ensure syntax works and that we get our correct points."
   ]
  },
  {
   "cell_type": "code",
   "execution_count": 23,
   "id": "34177d51",
   "metadata": {},
   "outputs": [
    {
     "name": "stdout",
     "output_type": "stream",
     "text": [
      "S_TP =\r\n",
      "\r\n",
      "   100.01   123.56   162.83\r\n",
      "\r\n",
      "K_TP =\r\n",
      "\r\n",
      "  -0.050000  -0.066667  -0.050000\r\n",
      "\r\n",
      "X_TP =\r\n",
      "\r\n",
      "   100.01   115.01   100.03\r\n",
      "\r\n",
      "Y_TP =\r\n",
      "\r\n",
      "    0.00000  -19.98305  -39.99999\r\n",
      "\r\n",
      "Heading_TP =\r\n",
      "\r\n",
      "   0.00000  -1.57000  -3.14100\r\n",
      "\r\n"
     ]
    }
   ],
   "source": [
    "[S_TP,K_TP,X_TP,Y_TP,Heading_TP] = GetTurnPoints(track)"
   ]
  },
  {
   "cell_type": "markdown",
   "id": "ea1443d0",
   "metadata": {},
   "source": [
    "Plot our track and the points that will make our constant radius segment."
   ]
  },
  {
   "cell_type": "code",
   "execution_count": 24,
   "id": "5cd8f109",
   "metadata": {},
   "outputs": [
    {
     "data": {
      "image/png": "[encoded data removed]",
      "text/plain": [
       "<IPython.core.display.Image object>"
      ]
     },
     "metadata": {},
     "output_type": "display_data"
    }
   ],
   "source": [
    "figure()\n",
    "hold on\n",
    "plot(track.inner.X,track.inner.Y,\"b\")\n",
    "plot(track.outer.X,track.outer.Y,\"b\")\n",
    "plot(X_TP,Y_TP,\"*r\")\n",
    "axis equal"
   ]
  },
  {
   "cell_type": "markdown",
   "id": "90036849",
   "metadata": {},
   "source": [
    "### Function: Determining Center of Constant Radius Segment\n",
    "Using the function providide [here](https://www.mathworks.com/matlabcentral/fileexchange/5557-circle-fit), we will determine the center and radius of our constant radius segment. Additionally, the provided circlefit function will be modified to return updated curvature values for our desired CR segment."
   ]
  },
  {
   "cell_type": "code",
   "execution_count": 25,
   "id": "df3684e7",
   "metadata": {},
   "outputs": [],
   "source": [
    "function   [xc,yc,K] = circfit(x,y,K_int)\n",
    "    xc = ((x(1)^2+y(1)^2)*(y(2)-y(3))+(x(2)^2+y(2)^2)*(y(3)-y(1))+(x(3)^2+y(3)^2)*(y(1)-y(2)))/(2*(x(1)*(y(2)-y(3))-y(1)*(x(2)-x(3))+x(2)*y(3)-x(3)*y(2)));\n",
    "    yc = ((x(1)^2+y(1)^2)*(x(3)-x(2))+(x(2)^2+y(2)^2)*(x(1)-x(3))+(x(3)^2+y(3)^2)*(x(2)-x(1)))/(2*(x(1)*(y(2)-y(3))-y(1)*(x(2)-x(3))+x(2)*y(3)-x(3)*(y(2))));\n",
    "    radius = sqrt((xc-x(1))^2+(yc^2-y(1)^2));\n",
    "    if K_int>0\n",
    "        K = 1/radius;\n",
    "    else\n",
    "        K = -1/radius;\n",
    "    end\n",
    "    K = [K, K, K];\n",
    "    %xc = (ma*mb*(y(1)-y(3))+mb*(x(1)-x(2))-ma*(x(2)+x(3)))/(2*(mb-ma))\n",
    "end"
   ]
  },
  {
   "cell_type": "code",
   "execution_count": 26,
   "id": "dba10beb",
   "metadata": {},
   "outputs": [
    {
     "name": "stdout",
     "output_type": "stream",
     "text": [
      "xc =  94.179\r\n",
      "yc = -20.003\r\n",
      "K =\r\n",
      "\r\n",
      "  -0.047995  -0.047995  -0.047995\r\n",
      "\r\n"
     ]
    }
   ],
   "source": [
    "[xc,yc,K] = circfit(X_TP,Y_TP,K_TP)"
   ]
  },
  {
   "cell_type": "markdown",
   "id": "ff4fe9ab",
   "metadata": {},
   "source": [
    "Unit test, to ensure we get the correct values"
   ]
  },
  {
   "cell_type": "code",
   "execution_count": 27,
   "id": "57a4a772",
   "metadata": {
    "scrolled": true
   },
   "outputs": [
    {
     "name": "stdout",
     "output_type": "stream",
     "text": [
      "xc_test =  94.179\r\n",
      "yc_test = -20.003\r\n",
      "K_TP =\r\n",
      "\r\n",
      "  -0.047995  -0.047995  -0.047995\r\n",
      "\r\n"
     ]
    }
   ],
   "source": [
    "[xc_test,yc_test,K_TP] = circfit(X_TP,Y_TP,K_TP)"
   ]
  },
  {
   "cell_type": "markdown",
   "id": "03c7d8a9",
   "metadata": {},
   "source": [
    "Now we will plot our turn points and the center of our constant radius segment."
   ]
  },
  {
   "cell_type": "code",
   "execution_count": 28,
   "id": "94f4509a",
   "metadata": {},
   "outputs": [
    {
     "data": {
      "image/png": "[encoded data removed]",
      "text/plain": [
       "<IPython.core.display.Image object>"
      ]
     },
     "metadata": {},
     "output_type": "display_data"
    }
   ],
   "source": [
    "figure()\n",
    "hold on\n",
    "plot(track.inner.X,track.inner.Y,\"b\")\n",
    "plot(track.outer.X,track.outer.Y,\"b\")\n",
    "plot(X_TP,Y_TP,\"*r\")\n",
    "plot(xc_test,yc_test,\"rs\")\n",
    "axis equal\n",
    "legend(\"Inner Track\",\"Outer Track\",\"Apex Turn Points\",\"Center of CR Segment\",\"orientation\",\"horizontal\")"
   ]
  },
  {
   "cell_type": "markdown",
   "id": "b77853df",
   "metadata": {},
   "source": [
    "### Function: Plotting CR Circle\n",
    "This is a quick function that will allow us to plot the constant radius segment of our racing line to ensure that we are getting an acceptable constant radius segment when compared to a full circle drawn from our center point."
   ]
  },
  {
   "cell_type": "code",
   "execution_count": 29,
   "id": "f10ce4bf",
   "metadata": {},
   "outputs": [],
   "source": [
    "function [xunit, yunit] = circle(x,y,r)\n",
    "    th = 0:pi/50:2*pi;\n",
    "    xunit = r * cos(th) + x;\n",
    "    yunit = r * sin(th) + y;\n",
    "end"
   ]
  },
  {
   "cell_type": "markdown",
   "id": "0cf4a8e1",
   "metadata": {},
   "source": [
    "Unit test to create our arrays of X & Y to plot the CR segment."
   ]
  },
  {
   "cell_type": "code",
   "execution_count": 40,
   "id": "7713e2aa",
   "metadata": {},
   "outputs": [],
   "source": [
    "[X_CR_circle, Y_CR_circle] = circle(xc_test,yc_test,1/K_TP(1));"
   ]
  },
  {
   "cell_type": "markdown",
   "id": "b140a5e4",
   "metadata": {},
   "source": [
    "Now we will initialize our constant radius segment with the initial determined from our apex turning points and points from our circle array."
   ]
  },
  {
   "cell_type": "code",
   "execution_count": 60,
   "id": "30e21806",
   "metadata": {},
   "outputs": [],
   "source": [
    "int_positions_TP.X = xc_test(end);\n",
    "int_positions_TP.Y = Y_TP(end);\n",
    "int_positions_TP.nu = Heading_TP(end);"
   ]
  },
  {
   "cell_type": "markdown",
   "id": "225d2962",
   "metadata": {},
   "source": [
    "Now we will fill in our constant radius segment and build a high resolution map of our CR segment hitting our identified turn points."
   ]
  },
  {
   "cell_type": "code",
   "execution_count": 61,
   "id": "fee8788f",
   "metadata": {},
   "outputs": [],
   "source": [
    "[CR_segment] = fillBackwardsTrack(S_TP,K_TP,int_positions_TP);"
   ]
  },
  {
   "cell_type": "markdown",
   "id": "cd9c21a9",
   "metadata": {},
   "source": [
    "Plot to ensure that we are hitting our desire points."
   ]
  },
  {
   "cell_type": "code",
   "execution_count": 62,
   "id": "200f0fa5",
   "metadata": {
    "scrolled": false
   },
   "outputs": [
    {
     "data": {
      "image/png": "[encoded data removed]",
      "text/plain": [
       "<IPython.core.display.Image object>"
      ]
     },
     "metadata": {},
     "output_type": "display_data"
    }
   ],
   "source": [
    "figure()\n",
    "hold on\n",
    "plot(track.inner.X,track.inner.Y,\"b\")\n",
    "plot(track.outer.X,track.outer.Y,\"b\")\n",
    "plot(X_TP,Y_TP,\"*r\")\n",
    "plot(X_CR_circle, Y_CR_circle)\n",
    "plot(CR_segment.X,CR_segment.Y,\"k\")\n",
    "axis equal"
   ]
  },
  {
   "cell_type": "markdown",
   "id": "a8b755d4",
   "metadata": {},
   "source": [
    "### Function: Working Backwards To Connect Outer Station\n",
    "Using the information detailed in Dr. Kritayakirana's thesis we know the following relationship \n",
    "$$ \\Delta K = 2c^2 \\Delta S $$\n",
    "Where c is our constant clothoid parameter that we can specify. This function will rewrite the following equation to determine where to start transitioning out of straight following along the outer track straight. As such we get the following relationship using point slope form:\n",
    "$$ |K_{CR_{Start}}-K_{Outer}| = 2c^2*|S_{CR_{Start}}-S_{Outer}| $$\n",
    "\n",
    "$$ S_{OuterStart} = S_{CR_{START}}-\\frac{|K_{OuterStart}-K_{CR_{START}}|}{2c^2} $$"
   ]
  },
  {
   "cell_type": "code",
   "execution_count": 57,
   "id": "c5bd11aa",
   "metadata": {},
   "outputs": [],
   "source": [
    "function S_clothoid_start = ClothoidStarting(S_CR_start,K_CR_start,K_outer,c)\n",
    "    S_clothoid_start = S_CR_start - abs(K_outer-K_CR_start)/(2*c^2);\n",
    "end"
   ]
  },
  {
   "cell_type": "markdown",
   "id": "b7ac60b8",
   "metadata": {},
   "source": [
    "Alternative approach using heading to calculate initial S (add deravation later if it works)"
   ]
  },
  {
   "cell_type": "code",
   "execution_count": 115,
   "id": "fc4632f2",
   "metadata": {},
   "outputs": [],
   "source": [
    "function S_int = ClothoidStartHeading(S_CR_start,heading_CR_start,heading_out,c)\n",
    "    S_int = sqrt(abs(c^2*S_CR_start^2-(heading_out-heading_CR_start))/c^2)+0.2;\n",
    "end"
   ]
  },
  {
   "cell_type": "code",
   "execution_count": 116,
   "id": "a059f94b",
   "metadata": {
    "scrolled": true
   },
   "outputs": [
    {
     "name": "stdout",
     "output_type": "stream",
     "text": [
      "c =  0.050000\n",
      "S_int =  93.718\n",
      "S_clothoid_start =  90.411\n"
     ]
    }
   ],
   "source": [
    "c = 0.05\n",
    "S_int = ClothoidStartHeading(min(CR_segment.S),CR_segment.heading(1),0,c)\n",
    "S_clothoid_start = ClothoidStarting(min(CR_segment.S),CR_segment.K(1),0,c)"
   ]
  },
  {
   "cell_type": "markdown",
   "id": "92610b83",
   "metadata": {},
   "source": [
    "Now we will create a new array for our clothoid segment that will lead from the end of our CR segment to outer bounds of the track."
   ]
  },
  {
   "cell_type": "code",
   "execution_count": 123,
   "id": "5a7a973f",
   "metadata": {},
   "outputs": [
    {
     "data": {
      "image/png": "[encoded data removed]",
      "text/plain": [
       "<IPython.core.display.Image object>"
      ]
     },
     "metadata": {},
     "output_type": "display_data"
    }
   ],
   "source": [
    "S_RU = [S_int,min(CR_segment.S)];\n",
    "K_RU = [0,CR_segment.K(1)];\n",
    "RU_int_positions.X = CR_segment.X(end);\n",
    "RU_int_positions.Y =CR_segment.Y(end);\n",
    "RU_int_positions.nu = CR_segment.heading(end);\n",
    "RampUp = fillBackwardsTrack(S_RU,K_RU,RU_int_positions);\n",
    "figure()\n",
    "hold on\n",
    "plot(track.inner.X,track.inner.Y,\"b\")\n",
    "plot(track.outer.X,track.outer.Y,\"b\")\n",
    "plot(track.middle.X,track.middle.Y,\"r\")\n",
    "plot(X_TP,Y_TP,\"*r\")\n",
    "plot(CR_segment.X,CR_segment.Y,\"k\")\n",
    "plot(RampUp.X,RampUp.Y,\"c\")\n",
    "%  xlim([85 105])\n",
    "%  ylim([-10 10])\n",
    "axis equal"
   ]
  },
  {
   "cell_type": "code",
   "execution_count": 124,
   "id": "9e3cd16d",
   "metadata": {},
   "outputs": [
    {
     "data": {
      "image/png": "[encoded data removed]",
      "text/plain": [
       "<IPython.core.display.Image object>"
      ]
     },
     "metadata": {},
     "output_type": "display_data"
    }
   ],
   "source": [
    "delta_X = (CR_segment.S(end)-S_clothoid_start)*cos(CR_segment.heading(end));\n",
    "X_int = CR_segment.X(end)-delta_X;\n",
    "figure()\n",
    "hold on\n",
    "plot(track.inner.X,track.inner.Y,\"b\")\n",
    "plot(track.outer.X,track.outer.Y,\"b\")\n",
    "plot(X_TP,Y_TP,\"*r\")\n",
    "plot(CR_segment.X,CR_segment.Y,\"k\")\n",
    "plot(X_int,width_track/2,\"ks\")\n",
    "axis equal"
   ]
  }
 ],
 "metadata": {
  "kernelspec": {
   "display_name": "Octave",
   "language": "octave",
   "name": "octave"
  },
  "language_info": {
   "file_extension": ".m",
   "help_links": [
    {
     "text": "GNU Octave",
     "url": "https://www.gnu.org/software/octave/support.html"
    },
    {
     "text": "Octave Kernel",
     "url": "https://github.com/Calysto/octave_kernel"
    },
    {
     "text": "MetaKernel Magics",
     "url": "https://metakernel.readthedocs.io/en/latest/source/README.html"
    }
   ],
   "mimetype": "text/x-octave",
   "name": "octave",
   "version": "4.2.2"
  }
 },
 "nbformat": 4,
 "nbformat_minor": 5
}
